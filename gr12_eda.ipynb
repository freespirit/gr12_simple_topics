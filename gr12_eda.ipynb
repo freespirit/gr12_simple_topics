{
 "cells": [
  {
   "cell_type": "markdown",
   "source": [
    "# Grants? What grants?\n",
    "The recently concluded GR12 seemed like a great success judging by the numbers of contributors, crowdfunded amounts, number of grants and so on. However, those numbers are a topic of another analysis. This one instead focuses on the content of the grants - what were the topics that attracted most funds?\n",
    "\n",
    "We would try to extract simple keywords (or phrases) from the grants' descriptions and then try to ruminate on what they mean.\n",
    "\n",
    "But first - how to find the top grants? We'd like to consider `crowdfund_amount_contributions_usd` as the most important property of a grant - it speaks of the contributors' dedication."
   ],
   "metadata": {
    "collapsed": false
   }
  },
  {
   "cell_type": "code",
   "execution_count": 1,
   "outputs": [],
   "source": [
    "import os\n",
    "\n",
    "import openai\n",
    "import pandas as pd"
   ],
   "metadata": {
    "collapsed": false,
    "pycharm": {
     "name": "#%%\n"
    }
   }
  },
  {
   "cell_type": "code",
   "execution_count": 2,
   "outputs": [],
   "source": [
    "GR12_DATA = 'data/Grants Results History Round over Round + Grant over Grant - GR1-GR12.csv'\n",
    "df = pd.read_csv(GR12_DATA)"
   ],
   "metadata": {
    "collapsed": false,
    "pycharm": {
     "name": "#%%\n"
    }
   }
  },
  {
   "cell_type": "code",
   "execution_count": 3,
   "outputs": [],
   "source": [
    "# convert from string to float\n",
    "df['crowdfund_amount_contributions_usd'] = df['crowdfund_amount_contributions_usd']\\\n",
    "    .astype(str)\\\n",
    "    .apply(lambda x: x.strip('$').replace(',', ''))\\\n",
    "    .astype(float)"
   ],
   "metadata": {
    "collapsed": false,
    "pycharm": {
     "name": "#%%\n"
    }
   }
  },
  {
   "cell_type": "code",
   "execution_count": 4,
   "outputs": [
    {
     "data": {
      "text/plain": "                                          grant_title  grant_id  \\\n7                                     ZigZag Exchange      4352   \n23                                        Dark Forest      2323   \n0   Coin Center is educating policy makers about p...      1668   \n\n                                                  url  \\\n7      https://gitcoin.co/grants/4352/zigzag-exchange   \n23         https://gitcoin.co/grants/2323/dark-forest   \n0   https://gitcoin.co/grants/1668/coin-center-is-...   \n\n    crowdfund_amount_contributions_usd  num_unique_contributors  \n7                            166070.23                    10573  \n23                           155574.64                    11056  \n0                            103838.93                     5727  ",
      "text/html": "<div>\n<style scoped>\n    .dataframe tbody tr th:only-of-type {\n        vertical-align: middle;\n    }\n\n    .dataframe tbody tr th {\n        vertical-align: top;\n    }\n\n    .dataframe thead th {\n        text-align: right;\n    }\n</style>\n<table border=\"1\" class=\"dataframe\">\n  <thead>\n    <tr style=\"text-align: right;\">\n      <th></th>\n      <th>grant_title</th>\n      <th>grant_id</th>\n      <th>url</th>\n      <th>crowdfund_amount_contributions_usd</th>\n      <th>num_unique_contributors</th>\n    </tr>\n  </thead>\n  <tbody>\n    <tr>\n      <th>7</th>\n      <td>ZigZag Exchange</td>\n      <td>4352</td>\n      <td>https://gitcoin.co/grants/4352/zigzag-exchange</td>\n      <td>166070.23</td>\n      <td>10573</td>\n    </tr>\n    <tr>\n      <th>23</th>\n      <td>Dark Forest</td>\n      <td>2323</td>\n      <td>https://gitcoin.co/grants/2323/dark-forest</td>\n      <td>155574.64</td>\n      <td>11056</td>\n    </tr>\n    <tr>\n      <th>0</th>\n      <td>Coin Center is educating policy makers about p...</td>\n      <td>1668</td>\n      <td>https://gitcoin.co/grants/1668/coin-center-is-...</td>\n      <td>103838.93</td>\n      <td>5727</td>\n    </tr>\n  </tbody>\n</table>\n</div>"
     },
     "execution_count": 4,
     "metadata": {},
     "output_type": "execute_result"
    }
   ],
   "source": [
    "gr12_top3 = df[df['round_number'] == 12] \\\n",
    "    .sort_values(by='crowdfund_amount_contributions_usd', ascending=False) \\\n",
    "    .head(n=3)\n",
    "gr12_top3[['grant_title', 'grant_id', 'url', 'crowdfund_amount_contributions_usd', 'num_unique_contributors']]"
   ],
   "metadata": {
    "collapsed": false,
    "pycharm": {
     "name": "#%%\n"
    }
   }
  },
  {
   "cell_type": "markdown",
   "source": [
    "Next we can manually get the text description of each grant from its webpage. It has to be done manually as there is currently no API provided to properly get (e.g. by id) and we would like to avoid crawling the pages. The top 3 grants should be displayed with their id and urls so it would be easy to confirm that the following texts were copied from the grant web pages."
   ],
   "metadata": {
    "collapsed": false
   }
  },
  {
   "cell_type": "code",
   "execution_count": 5,
   "outputs": [],
   "source": [
    "text_4352 = \"\"\"Vision\n",
    "\n",
    "ZigZag wants to be a revolutionary project in the ZK Rollup space and aims at the end-game scaling solutions for Ethereum. We want to be the first, we want to be the best. We want to push out great products with high quality as fast as possible. We do not limit ourselves. Our vision is not to launch a mediocre DEX. Instead, we are aiming to bring the usability of centralised exchanges to a DEX that previously was not possible. With ZK Rollups, it is. Having sufficient liquidity and orderbook depth is a key factor that holds back a lot of DEXs from succeeding, which is what our main aim is to get right.\n",
    "\n",
    "Introduction\n",
    "\n",
    "ZigZag is a decentralised orderbook exchange that utilizes ZK-Rollup tech by allowing traders to perform spot trades with minimal slippage and thick orderbooks. The problem that every AMM-based DEX has on other Layer 2 Rollups is having miniscule liquidity. For simple swaps the impact on price movement is not significant. However, if one is attempting to trade with size relative to over $500k, to get the best quotes it is necessary to bridge back to mainnet Ethereum and pay its fees for aggregated liquidity that is available there. ZK Rollups can solve this by offering negligible fees on transactions, allowing for any market inefficiency to be taken advantage of in an instant by market makers, which was previously not possible on a DEX. We are aiming to acquire sufficient liquidity to the extent that users will not have to pay Ethereum gas fees on mainnet in order to get quoted for a similar price.\n",
    "\n",
    "We launched as the first and still the only DEX on zkSync 1.x. We will also launch as the first DEX on StarkNet, which you can currently try out on our testnet (limited functionality). Due to our first mover advantage we are capturing a lot of attention. Our volume has been breaking records every week. Last week we had a total volume of $52M with a record breaking day of $13.2M in volume on the last day of the week.\n",
    "\n",
    "Team background\n",
    "\n",
    "Our team derives from crypto natives who are all experienced traders. Having personal experience in using decentralized exchanges allows us to recognize what is required for a DEX to succeed. The founder of ZigZag is a leading developer in Solidity, but we dare to say he is one of the, if not the best, Cairo dev out there. Our founder coded most of our DEX on zkSync and is the reason we exist and captured the first mover advantage we have. Another experienced dev joined our team recently and focuses on StarkNet and coding a non-custodial liquidity pool for market makers. With these guys we have a confirmed advantage and head start over any other competition building on StarkNet. Our team is joined by a small group of experienced devs who are very committed to helping us expand ZigZag even more. We are also in contact with most of the big and small players that are building next to us and are looking forward to collaborating with anyone for the good of Ethereum’s scalability.\n",
    "\n",
    "With our combined skills, trading knowledge and maybe most importantly full-time commitment, we have the ability to create a leading DEX on zkSync and StarkNet from the development side, as well as ensuring that the incentives for traders are sufficient for them to not require an alternative.\n",
    "\n",
    "Achievements and future plans\n",
    "\n",
    "Currently, we have our exchange live on zkSync 1.0. We’re using the native zkSync atomic swap feature to match orders. The gas fee is paid to the relayer and included in the atomic swap. We also made a bridge UI that taps into zkSync’s smart contract to bridge between Ethereum and zkSync. We have a StarkNet testnet up, but right now with limited functionality. However, this will soon change as Starkware is moving quickly. Be sure to check out our announcements. Furthermore, our governance proposal for Frax passed (https://gov.frax.finance/t/fip-36-frax-x-zigzag-partnership/272): Frax will provide us for a total of $20M in liquidity. The first millions have arrived. This liquidity will be used to keep our DEX liquid on zkSync for now and once StarkNet fully launches we will move the majority of our liquidity there since it will have more functionality. We also have a MIM proposal up (https://forum.abracadabra.money/t/proposal-bring-mim-onto-starknet-through-zigzag-exchange/1065) to kickstart our DEX on StarkNet, since StarkNet will have more functionality than zkSync 1.0 currently has.\n",
    "\n",
    "Limit orders and margin trading will be possible on StarkNet and zkSync 2.0. On StarkNet we are also building a non-custodial liquidity pool that market makers can tap into to use and market make on our DEX. We can turn this into a dAMM. As said before, we made a bridge UI for zkSync, but we are working on a fast withdrawal mechanism. We’re also working on a bridge UI for StarkNet and will provide fast withdrawals there too. Another future plan is adding more bridges to our website. One that has the most priority would be zkSync <-> StarkNet. We are thinking further into the future about implementing NFT related features on zkSync: viewing and sending NFTs on our website. We would later turn this into the first NFT Marketplace.\n",
    "\n",
    "We’re eagerly awaiting zkSync 2.0, which will be zkEVM. This will give us way more possibilities on our DEX. We might even build on other Layer 2 ZK Rollups if we have the developer capacity for it. Once Loopring, ZKSwap and Polygon Hermez are zkEVM, we could start building there.\n",
    "\n",
    "Reasoning for grant\n",
    "\n",
    "As the first DEX on zkSync we've been very active in the zkSync ecosystem, but also with the community and catering to them. One of the few live use cases on zkSync right now, besides our DEX, is donating to Gitcoin grants. This can be done in a cheap way by either by bridging funds from Ethereum Layer 1 -> zkSync Layer 2 (https://trade.zigzag.exchange/bridge) or by using a fiat ramp like Ramp Network (https://ramp.network/) to zkSync. These Gitcoin grants created demand for DAI, so a while back we added DAI pairs to our exchange (ETH/DAI, WBTC/DAI, DAI/USDC, DAI/USDT). A lot of people started using ZigZag to grab DAI for Gitcoin grants and started requesting us to create our own grant. They wanted to donate to us! We decided to open a Twitter poll (https://twitter.com/ZigZagExchange/status/1469983150180909057) and after 1 day more than 1300 people voted \"Yes\", telling us that they would want to donate to us. This gave us great confidence in creating our own grant.\n",
    "\n",
    "Use of funds\n",
    "\n",
    "As seen in our tweet, we are self funding right now. This Gitcoin grant will give us the ability to spend more funding on development. We would love to scale up our development team and with the support of our community it seems like we will be able to do this. Development can mean anything ranging from frontend and backend development to GFX/UI/UX design.\n",
    "\n",
    "Developer? Contact us!\n",
    "\n",
    "We would love to hear your feedback on our product, so please use our exchange, read our code in Github and join our community. If you are interested in our project and think that you could help us out or even contribute to building on ZK Rollups, don't hesitate and contact us here: https://info.zigzag.exchange/#contact. With our grant donations we will be able to take onboard more developers and maybe that person will be you! Who knows we’ll even see you on our team in the future!\"\"\""
   ],
   "metadata": {
    "collapsed": false,
    "pycharm": {
     "name": "#%%\n"
    }
   }
  },
  {
   "cell_type": "code",
   "execution_count": 6,
   "outputs": [],
   "source": [
    "text_2323 = \"\"\"Dark Forest is an MMO strategy game built with zkSNARKs on Ethereum and xDAI. Players explore an infinite, procedurally-generated universe, conquering planets and growing a space empire. More info: zkSNARKs for blockchain gaming\n",
    "\n",
    "Over 2,500+ crypto enthusiasts have participated in the first four whitelisted Dark Forest rounds, spending over one trillion gas on xDAI chain and the Ropsten testnet. This playerbase represents about 15% of our current waitlist, and we're excited to continue development so that we can open up the game to more players.\n",
    "\n",
    ">>> What have we been up to?\n",
    "\n",
    "After the previous Gitcoin grant round concluded, we launched DF v0.6 Round 4, aka The Lightning Round. We’ve also seen an abundance of life come from within the community in the form of the Dark Forest Community Art Contest, MarrowDAO’s recent Dark Forest Community Round, and d_fdao's recently announced Dark Forest Community New Year's Round!\n",
    "\n",
    "We are actively seeking a front end web developer. (Sign up for the Dark Forest Jobs newsletter if you’d like to be notified of new openings!)\n",
    "\n",
    "We’ve got one more round of v0.6 left, which will likely launch in Q1 2022. After that, we plan to embark on the next stage of our development cycle: v0.7. In addition to releasing rounds ourselves, we are enabling individual players and DAOs to deploy their own rounds, adding a unique spin to our core game.\n",
    "\n",
    "Throughout 2022, we hope to facilitate the launch of many community rounds, so that players can play the game without having to wait for our months-long release process. Your contributions, in addition to fostering the growth of Dark Forest, will help make that happen.\n",
    "\n",
    "We’ve learned a ton from shipping this game for our enthusiastic audience, and are eternally grateful for the opportunity to build such an outlandish piece of software.\n",
    "\n",
    "Join the Dark Forest Discord if you'd like to get involved.\n",
    "\n",
    "Image\n",
    "\n",
    "Image\n",
    "\n",
    "Decentralized Digital Worlds: We want to build a massively-multiplayer persistent and economic universe, interoperable with the rest of the Ethereum metaverse. We believe that zkSNARKs will unlock the first generation of truly compelling decentralized games, and that decentralized games will pave the way for the community-owned and community-designed digital worlds of the future.\n",
    "\n",
    "Community-driven: Beyond working on the Dark Forest game itself, our team also works closely with Project Sophon, a group of players working on third-party tools. Our vision is for the Dark Forest gameplay experience to be built and freely modified by the community. For a taste of this, see the Dark Forest Community Plugins Homepage.\n",
    "\n",
    "ETH/ZK Education: We're also spending time on community and education initiatives aimed at bringing both Ethereum and zero-knowledge application development to more students and developers, including educational programs, starter repos and shared infrastructure, and more (to be announced on our blog in the coming weeks!)\n",
    "\n",
    "Our work so far has been supported by a handful of one-off developer grants from organizations like xDAI, the Mozilla Builders program, and an in-game tip jar. Additionally, we are now funded by a new research foundation: 0xPARC. You can read more about it here.\n",
    "\n",
    "We're so thankful to be a part of this ecosystem and we're excited to keep building for you all! :)\"\"\""
   ],
   "metadata": {
    "collapsed": false,
    "pycharm": {
     "name": "#%%\n"
    }
   }
  },
  {
   "cell_type": "code",
   "execution_count": 7,
   "outputs": [],
   "source": [
    "text_1668 = \"\"\"Based in Washington, D.C., Coin Center is the leading non-profit research and advocacy center focused on the public policy issues facing cryptocurrency and decentralized computing technologies like Bitcoin and Ethereum.\n",
    "\n",
    "Our mission is to build a better understanding of these technologies and to promote a regulatory climate that preserves the freedom to innovate using permissionless blockchain technologies.\n",
    "\n",
    "We do this by producing and publishing policy research from respected academics and experts, educating policymakers and the media about blockchain technology, and by engaging in advocacy for sound public policy.\"\"\""
   ],
   "metadata": {
    "collapsed": false,
    "pycharm": {
     "name": "#%%\n"
    }
   }
  },
  {
   "cell_type": "markdown",
   "source": [
    "Now that we have the texts we can get the top keywords or key phrases. For that, we chose a simple call to OpenAI's GPT3 service which is a top NLP model and should be good at keyword detection. But first - merge the data."
   ],
   "metadata": {
    "collapsed": false,
    "pycharm": {
     "name": "#%% md\n"
    }
   }
  },
  {
   "cell_type": "code",
   "source": [
    "gr12_top3['body'] = [text_4352, text_2323, text_1668]\n",
    "# Prepare the texts for GPT3 - we need to clean them from new lines\n",
    "gr12_top3['body'] = gr12_top3['body'].apply(lambda text: text.replace('\\n', ' '))\n",
    "print(gr12_top3['body'])"
   ],
   "metadata": {
    "collapsed": false,
    "pycharm": {
     "name": "#%%\n"
    }
   },
   "execution_count": 8,
   "outputs": [
    {
     "name": "stdout",
     "output_type": "stream",
     "text": [
      "7     Vision  ZigZag wants to be a revolutionary pro...\n",
      "23    Dark Forest is an MMO strategy game built with...\n",
      "0     Based in Washington, D.C., Coin Center is the ...\n",
      "Name: body, dtype: object\n"
     ]
    }
   ]
  },
  {
   "cell_type": "markdown",
   "source": [
    "The next section is non-deterministic as GPT3 is itself non-deterministic - it often returns different results, sometimes empty ones. It may need to be rerun once or twice. To ensure proper work one need to fiddle with the OpenAI completion parameters. For our current purposes it's good enough as a few different runs usually return similar results - we can be confident in GPT3's predictions."
   ],
   "metadata": {
    "collapsed": false
   }
  },
  {
   "cell_type": "code",
   "execution_count": 9,
   "outputs": [],
   "source": [
    "openai.api_key = os.getenv(\"OPENAI_API_KEY\")\n",
    "\n",
    "def get_keywords(text: str):\n",
    "    prompt = f\"Text: {text}\\n\\nKeywords:\"\n",
    "    # print(prompt)\n",
    "    return openai.Completion.create(\n",
    "        engine=\"davinci\",\n",
    "        prompt=prompt,\n",
    "        temperature=0.3,\n",
    "        max_tokens=120,\n",
    "        top_p=1.0,\n",
    "        frequency_penalty=0.8,\n",
    "        presence_penalty=0.0,\n",
    "        stop=[\"\\n\"]\n",
    "    )\n",
    "\n",
    "grant_keywords = []\n",
    "for text in gr12_top3['body']:\n",
    "    response = get_keywords(text)\n",
    "    # print(response)\n",
    "    keywords = response['choices'][0]['text'].split(',')\n",
    "    keywords = [k.strip() for k in keywords]\n",
    "    grant_keywords.append(keywords)\n",
    "    # print(keywords)\n",
    "\n",
    "gr12_top3['keywords'] = grant_keywords"
   ],
   "metadata": {
    "collapsed": false,
    "pycharm": {
     "name": "#%%\n"
    }
   }
  },
  {
   "cell_type": "markdown",
   "source": [
    "# Words\n",
    "Now, let's explore the keywords of the top 3 grants."
   ],
   "metadata": {
    "collapsed": false,
    "pycharm": {
     "name": "#%% md\n"
    }
   }
  },
  {
   "cell_type": "code",
   "execution_count": 10,
   "outputs": [
    {
     "name": "stdout",
     "output_type": "stream",
     "text": [
      "ZigZag Exchange - ZigZag, DEX, StarkNet, zkSync, Starkware - $166070.23.\n",
      "Dark Forest - blockchain games, decentralized games, zkSNARKs, Ethereum - $155574.64.\n",
      "Coin Center is educating policy makers about public blockchains - Bitcoin, cryptocurrency, blockchain, policy research - $103838.93.\n"
     ]
    }
   ],
   "source": [
    "\n",
    "for row in gr12_top3.itertuples():\n",
    "    result = f'{row.grant_title} - {\", \".join(row.keywords)} - ${row.crowdfund_amount_contributions_usd}.'\n",
    "    print(result)"
   ],
   "metadata": {
    "collapsed": false,
    "pycharm": {
     "name": "#%%\n"
    }
   }
  },
  {
   "cell_type": "markdown",
   "source": [
    "----\n",
    "# Bonus - trends\n",
    "Let's check the previous round's most supported grants and see how they differ from GR12."
   ],
   "metadata": {
    "collapsed": false
   }
  },
  {
   "cell_type": "code",
   "execution_count": 11,
   "outputs": [
    {
     "data": {
      "text/plain": "                         grant_title  grant_id  \\\n1812                     Dark Forest      2323   \n1814  ETHPlanet - member of togETHer       468   \n1815                             Nym       373   \n\n                                                    url  \\\n1812         https://gitcoin.co/grants/2323/dark-forest   \n1814  https://gitcoin.co/grants/468/ethplanet-member...   \n1815                  https://gitcoin.co/grants/373/nym   \n\n      crowdfund_amount_contributions_usd  num_unique_contributors  \n1812                            68728.02                     7028  \n1814                            61254.48                      430  \n1815                            29066.73                     6648  ",
      "text/html": "<div>\n<style scoped>\n    .dataframe tbody tr th:only-of-type {\n        vertical-align: middle;\n    }\n\n    .dataframe tbody tr th {\n        vertical-align: top;\n    }\n\n    .dataframe thead th {\n        text-align: right;\n    }\n</style>\n<table border=\"1\" class=\"dataframe\">\n  <thead>\n    <tr style=\"text-align: right;\">\n      <th></th>\n      <th>grant_title</th>\n      <th>grant_id</th>\n      <th>url</th>\n      <th>crowdfund_amount_contributions_usd</th>\n      <th>num_unique_contributors</th>\n    </tr>\n  </thead>\n  <tbody>\n    <tr>\n      <th>1812</th>\n      <td>Dark Forest</td>\n      <td>2323</td>\n      <td>https://gitcoin.co/grants/2323/dark-forest</td>\n      <td>68728.02</td>\n      <td>7028</td>\n    </tr>\n    <tr>\n      <th>1814</th>\n      <td>ETHPlanet - member of togETHer</td>\n      <td>468</td>\n      <td>https://gitcoin.co/grants/468/ethplanet-member...</td>\n      <td>61254.48</td>\n      <td>430</td>\n    </tr>\n    <tr>\n      <th>1815</th>\n      <td>Nym</td>\n      <td>373</td>\n      <td>https://gitcoin.co/grants/373/nym</td>\n      <td>29066.73</td>\n      <td>6648</td>\n    </tr>\n  </tbody>\n</table>\n</div>"
     },
     "execution_count": 11,
     "metadata": {},
     "output_type": "execute_result"
    }
   ],
   "source": [
    "gr11_top3 = df[df['round_number'] == 11]\\\n",
    "    .sort_values(by='crowdfund_amount_contributions_usd', ascending=False)\\\n",
    "    .head(n=3)\n",
    "gr11_top3[['grant_title', 'grant_id', 'url', 'crowdfund_amount_contributions_usd', 'num_unique_contributors']]"
   ],
   "metadata": {
    "collapsed": false,
    "pycharm": {
     "name": "#%%\n"
    }
   }
  },
  {
   "cell_type": "code",
   "execution_count": 12,
   "outputs": [],
   "source": [
    "text_2323 = \"\"\"Dark Forest is an MMO strategy game built with zkSNARKs on Ethereum and xDAI. Players explore an infinite, procedurally-generated universe, conquering planets and growing a space empire. More info: zkSNARKs for blockchain gaming\n",
    "\n",
    "Over 2,500+ crypto enthusiasts have participated in the first four whitelisted Dark Forest rounds, spending over one trillion gas on xDAI chain and the Ropsten testnet. This playerbase represents about 15% of our current waitlist, and we're excited to continue development so that we can open up the game to more players.\n",
    "\n",
    ">>> What have we been up to?\n",
    "\n",
    "After the previous Gitcoin grant round concluded, we launched DF v0.6 Round 4, aka The Lightning Round. We’ve also seen an abundance of life come from within the community in the form of the Dark Forest Community Art Contest, MarrowDAO’s recent Dark Forest Community Round, and d_fdao's recently announced Dark Forest Community New Year's Round!\n",
    "\n",
    "We are actively seeking a front end web developer. (Sign up for the Dark Forest Jobs newsletter if you’d like to be notified of new openings!)\n",
    "\n",
    "We’ve got one more round of v0.6 left, which will likely launch in Q1 2022. After that, we plan to embark on the next stage of our development cycle: v0.7. In addition to releasing rounds ourselves, we are enabling individual players and DAOs to deploy their own rounds, adding a unique spin to our core game.\n",
    "\n",
    "Throughout 2022, we hope to facilitate the launch of many community rounds, so that players can play the game without having to wait for our months-long release process. Your contributions, in addition to fostering the growth of Dark Forest, will help make that happen.\n",
    "\n",
    "We’ve learned a ton from shipping this game for our enthusiastic audience, and are eternally grateful for the opportunity to build such an outlandish piece of software.\n",
    "\n",
    "Join the Dark Forest Discord if you'd like to get involved.\"\"\"\n",
    "\n",
    "text_468 = \"\"\"ETHPlanet is a ethereum community with a spirit of open source, sharing, and mutual growth. We are committed to serving the ethereum ecosystem and its developers, communities, projects, and related platforms. We organize online and offline activities, including global conferences, forums, hackathons, etc., and are constantly exploring new ways to support and grow together with Ethereum.\"\"\"\n",
    "\n",
    "text_373 = \"\"\"About Nym\n",
    "The Nym network is a decentralized mixnet to support anonymity and unlinkability at the network layer (layer 0) across any blockchain and application. Unlike Tor and Katzenpost/Meson, Nym uses blockchains in order not to have a central directory and uses incentives to decentralize the mix network itself. Due to cover traffic and timing delays based on the Loopix design, Nym provides superior privacy than both VPNs and Tor, and can be integrated to communicate with any blockchain to enable communication without censorship or fear. Nym fills in the missing pieces of the cryptographic revolution necessary to end mass surveillance.\n",
    "Learn more from our litepaper.\n",
    "\n",
    "Team Nym\n",
    "The Nym team is comprised by established coders and researchers in privacy-enhancing technologies.\n",
    "Harry Halpin, CEO is a renowned computer scientist and a leader in the movement against mass surveillance who worked under web inventor Tim Berners-Lee at the World Wide Web Consortium, lead NEXTLEAP and PANORAMIX, amongst other accomplishments.\n",
    "Claudia Diaz, CSO (Chief Science Officer) with 20 years working on privacy-enhancing technologies, she is one of Europe’s preeminent researchers in the field recognized for her contribution to the foundations of metadata protection from surveillance, traffic analysis, tracking, localization and behavioral profiling.\n",
    "Dave Hrycyszyn, CTO has founded, built and sold several companies from Chainspace, Blockmainia, and the Vega protocol. He is a co-author of the blockchain-sharding protocol Chainspace and the leaderless, PBFT-variant consensus protocol Blockmania, the prototype of which turned out to be likely the world’s fastest distributed ledger (400,000 TPS with 2 secs finality).\n",
    "Jedrzej Stuczynski, Lead Developer has a Master of Engineering in Computer Science with First Class Honours from University College London. During his thesis work he studied the Coconut signature scheme under the supervision of George Danezis and then implemented it.\n",
    "Ania Piotrowska, Head of Research has masters degree with specialization in Analysis of Algorithms from the Faculty of Fundamental Problems of Technology at Wroclaw University of Technology and is a designer of the Loopix mixnet, with her PhD advisor and original Nym and Chainspace co-founder George Danezis.\n",
    "\n",
    "More on our team here.\n",
    "\n",
    "Status\n",
    "We just launched our Rust code for the Nym mixnet at the end of December 2019. For the rest of Q1 2020, we are fine tuning our validator development in order to prepare for beta release that will enable use of Nym with Bitcoin and Ethereum.\n",
    "https://github.com/nymtech/nym\n",
    "\n",
    "Resources\n",
    "Github\n",
    "Documentation\n",
    "\n",
    "Contact\n",
    "For questions and comments, you can reach us on our official channels.\n",
    "Twitter\n",
    "Telegram\n",
    "\"\"\""
   ],
   "metadata": {
    "collapsed": false,
    "pycharm": {
     "name": "#%%\n"
    }
   }
  },
  {
   "cell_type": "code",
   "execution_count": 13,
   "outputs": [
    {
     "name": "stdout",
     "output_type": "stream",
     "text": [
      "1812    Dark Forest is an MMO strategy game built with...\n",
      "1814    ETHPlanet is a ethereum community with a spiri...\n",
      "1815    About Nym The Nym network is a decentralized m...\n",
      "Name: body, dtype: object\n"
     ]
    }
   ],
   "source": [
    "assert all(grant_id == text_id\n",
    "           for grant_id, text_id in zip(gr11_top3['grant_id'].to_numpy(),\n",
    "                                        [2323, 468, 373]))\n",
    "gr11_top3['body'] = [text_2323, text_468, text_373]\n",
    "# Prepare the texts for GPT3 - we need to clean them from new lines\n",
    "gr11_top3['body'] = gr11_top3['body'].apply(lambda text: text.replace('\\n', ' '))\n",
    "print(gr11_top3['body'])"
   ],
   "metadata": {
    "collapsed": false,
    "pycharm": {
     "name": "#%%\n"
    }
   }
  },
  {
   "cell_type": "code",
   "execution_count": 18,
   "outputs": [
    {
     "name": "stdout",
     "output_type": "stream",
     "text": [
      "Dark Forest - zkSNARKs, blockchain gaming, Ethereum, xDAI - $68728.02.\n",
      "ETHPlanet - member of togETHer - ethereum, blockchain, smart contract, dapp, solidity - $61254.48.\n",
      "Nym - Nym, privacy, anonymity, unlinkability, decentralized mixnet, blockchain - $29066.73.\n"
     ]
    }
   ],
   "source": [
    "grant_keywords = []\n",
    "\n",
    "for text in gr11_top3['body']:\n",
    "    response = get_keywords(text)\n",
    "    keywords = response['choices'][0]['text'].split(',')\n",
    "    keywords = [k.strip() for k in keywords]\n",
    "    grant_keywords.append(keywords)\n",
    "\n",
    "gr11_top3['keywords'] = grant_keywords\n",
    "for row in gr11_top3.itertuples():\n",
    "    result = f'{row.grant_title} - {\", \".join(row.keywords)} - ${row.crowdfund_amount_contributions_usd}.'\n",
    "    print(result)"
   ],
   "metadata": {
    "collapsed": false,
    "pycharm": {
     "name": "#%%\n"
    }
   }
  },
  {
   "cell_type": "markdown",
   "source": [
    "----\n",
    "# Conclusion\n",
    "Can we say something about the topics of the most crowdfunded grants? We can conclude that:\n",
    "\n",
    " * blockchain games (GameFi, etc.) remain a top interest. Particularly - Dark Forest is among top 3 in two consecutive rounds\n",
    " * rollups, L2, etc. became more popular\n",
    " * privacy and anonymity gave way to policy and research\n",
    " * the top 3 GR12 grants have attracted 2.5x more crowdfunded amounts - from ~160k to ~425k\n",
    " * the number of unique contributors (total for top 3) has almost doubled - from ~14k to ~27k\n",
    "\n",
    "\n",
    "Once the grant texts' are available through an API this approach may be extended to all historical rounds to see how the trends are shifting. One interesting question is what would be the most popular topics of GR13..."
   ],
   "metadata": {
    "collapsed": false,
    "pycharm": {
     "name": "#%% md\n"
    }
   }
  }
 ],
 "metadata": {
  "kernelspec": {
   "display_name": "Python 3",
   "language": "python",
   "name": "python3"
  },
  "language_info": {
   "codemirror_mode": {
    "name": "ipython",
    "version": 2
   },
   "file_extension": ".py",
   "mimetype": "text/x-python",
   "name": "python",
   "nbconvert_exporter": "python",
   "pygments_lexer": "ipython2",
   "version": "2.7.6"
  }
 },
 "nbformat": 4,
 "nbformat_minor": 0
}